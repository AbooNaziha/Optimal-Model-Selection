{
 "cells": [
  {
   "cell_type": "code",
   "execution_count": 1,
   "source": [
    "import numpy as np\r\n",
    "import matplotlib.pyplot as plt\r\n",
    "import matplotlib as mpl\r\n",
    "mpl.rcParams['figure.figsize'] = [4, 4] # inches\r\n",
    "mpl.rcParams['font.size'] = 12\r\n",
    "# We set the random seed manually so that the results can be reproduced\r\n",
    "np.random.seed(1234)\r\n",
    "# define the data generating function\r\n",
    "h = lambda x: np.sin(np.pi*x)\r\n",
    "xmin = -1\r\n",
    "xmax = 1\r\n",
    "# Define a single independent variable\r\n",
    "N = 101\r\n",
    "x = np.linspace(xmin, xmax, num=N)\r\n",
    "# Define the data with added noise\r\n",
    "t = h(x) + 0.2*(np.random.randn(N))\r\n",
    "# Add random Gaussian noise with unit variance\r\n",
    "plt.figure()\r\n",
    "plt.plot(x,h(x),'k-',x,t,'b.')\r\n",
    "plt.xlabel('x')\r\n",
    "plt.ylabel('t')\r\n",
    "plt.tight_layout()"
   ],
   "outputs": [
    {
     "output_type": "display_data",
     "data": {
      "image/png": "[encoded data removed]",
      "text/plain": [
       "<Figure size 288x288 with 1 Axes>"
      ]
     },
     "metadata": {
      "needs_background": "light"
     }
    }
   ],
   "metadata": {}
  },
  {
   "cell_type": "code",
   "execution_count": 9,
   "source": [
    "x"
   ],
   "outputs": [
    {
     "output_type": "execute_result",
     "data": {
      "text/plain": [
       "array([-1.  , -0.98, -0.96, -0.94, -0.92, -0.9 , -0.88, -0.86, -0.84,\n",
       "       -0.82, -0.8 , -0.78, -0.76, -0.74, -0.72, -0.7 , -0.68, -0.66,\n",
       "       -0.64, -0.62, -0.6 , -0.58, -0.56, -0.54, -0.52, -0.5 , -0.48,\n",
       "       -0.46, -0.44, -0.42, -0.4 , -0.38, -0.36, -0.34, -0.32, -0.3 ,\n",
       "       -0.28, -0.26, -0.24, -0.22, -0.2 , -0.18, -0.16, -0.14, -0.12,\n",
       "       -0.1 , -0.08, -0.06, -0.04, -0.02,  0.  ,  0.02,  0.04,  0.06,\n",
       "        0.08,  0.1 ,  0.12,  0.14,  0.16,  0.18,  0.2 ,  0.22,  0.24,\n",
       "        0.26,  0.28,  0.3 ,  0.32,  0.34,  0.36,  0.38,  0.4 ,  0.42,\n",
       "        0.44,  0.46,  0.48,  0.5 ,  0.52,  0.54,  0.56,  0.58,  0.6 ,\n",
       "        0.62,  0.64,  0.66,  0.68,  0.7 ,  0.72,  0.74,  0.76,  0.78,\n",
       "        0.8 ,  0.82,  0.84,  0.86,  0.88,  0.9 ,  0.92,  0.94,  0.96,\n",
       "        0.98,  1.  ])"
      ]
     },
     "metadata": {},
     "execution_count": 9
    }
   ],
   "metadata": {}
  },
  {
   "cell_type": "code",
   "execution_count": 2,
   "source": [
    "import matplotlib.pyplot as plt\r\n",
    "xtrain = x[0::10]\r\n",
    "ttrain = t[0::10]\r\n",
    "# The validation set\r\n",
    "xvalid = x[3::10]\r\n",
    "tvalid = t[3::10]\r\n",
    "# The test set\r\n",
    "xtest = x[6::10]\r\n",
    "ttest = t[6::10]"
   ],
   "outputs": [],
   "metadata": {}
  },
  {
   "cell_type": "code",
   "execution_count": 3,
   "source": [
    "xtrain"
   ],
   "outputs": [
    {
     "output_type": "execute_result",
     "data": {
      "text/plain": [
       "array([-1. , -0.8, -0.6, -0.4, -0.2,  0. ,  0.2,  0.4,  0.6,  0.8,  1. ])"
      ]
     },
     "metadata": {},
     "execution_count": 3
    }
   ],
   "metadata": {}
  },
  {
   "cell_type": "code",
   "execution_count": 4,
   "source": [
    "ttrain"
   ],
   "outputs": [
    {
     "output_type": "execute_result",
     "data": {
      "text/plain": [
       "array([ 0.09428703, -0.35777811, -0.99158578, -1.03062456, -0.57254533,\n",
       "        0.16820176,  0.39293799,  0.79396947,  1.04393498,  0.60375371,\n",
       "        0.05824107])"
      ]
     },
     "metadata": {},
     "execution_count": 4
    }
   ],
   "metadata": {}
  },
  {
   "cell_type": "code",
   "execution_count": 5,
   "source": [
    "M = 11\r\n",
    "# Empty list to record the RMS errors\r\n",
    "rmstrain = []\r\n",
    "rmsvalid = []\r\n",
    "# Empty list to record the weights for each regression run\r\n",
    "weights = []\r\n",
    "plt.figure(figsize=[9,12])\r\n",
    "# For each degree of polynomial fit\r\n",
    "for i in range(0,M):\r\n",
    "    # Create the Matrix of basis functions for the sampled data\r\n",
    "    PhiTrain = np.array([pow(xtrain,j) for j in range(0,i+1)]).transpose()\r\n",
    "    PhiValid = np.array([pow(xvalid,j) for j in range(0,i+1)]).transpose()\r\n",
    "    PhiTest = np.array([pow(xtest,j) for j in range(0,i+1)]).transpose()\r\n",
    "    # Create a high-resolution basis matrix so that we can plot the fitted polynomial smoothly\r\n",
    "    hiPhi = np.array([pow(x,j) for j in range(0,i+1)]).transpose()\r\n",
    "    # Solve the"
   ],
   "outputs": [
    {
     "output_type": "display_data",
     "data": {
      "text/plain": [
       "<Figure size 648x864 with 0 Axes>"
      ]
     },
     "metadata": {}
    }
   ],
   "metadata": {}
  },
  {
   "cell_type": "code",
   "execution_count": 6,
   "source": [
    "PhiTrain"
   ],
   "outputs": [
    {
     "output_type": "execute_result",
     "data": {
      "text/plain": [
       "array([[ 1.00000000e+00, -1.00000000e+00,  1.00000000e+00,\n",
       "        -1.00000000e+00,  1.00000000e+00, -1.00000000e+00,\n",
       "         1.00000000e+00, -1.00000000e+00,  1.00000000e+00,\n",
       "        -1.00000000e+00,  1.00000000e+00],\n",
       "       [ 1.00000000e+00, -8.00000000e-01,  6.40000000e-01,\n",
       "        -5.12000000e-01,  4.09600000e-01, -3.27680000e-01,\n",
       "         2.62144000e-01, -2.09715200e-01,  1.67772160e-01,\n",
       "        -1.34217728e-01,  1.07374182e-01],\n",
       "       [ 1.00000000e+00, -6.00000000e-01,  3.60000000e-01,\n",
       "        -2.16000000e-01,  1.29600000e-01, -7.77600000e-02,\n",
       "         4.66560000e-02, -2.79936000e-02,  1.67961600e-02,\n",
       "        -1.00776960e-02,  6.04661760e-03],\n",
       "       [ 1.00000000e+00, -4.00000000e-01,  1.60000000e-01,\n",
       "        -6.40000000e-02,  2.56000000e-02, -1.02400000e-02,\n",
       "         4.09600000e-03, -1.63840000e-03,  6.55360000e-04,\n",
       "        -2.62144000e-04,  1.04857600e-04],\n",
       "       [ 1.00000000e+00, -2.00000000e-01,  4.00000000e-02,\n",
       "        -8.00000000e-03,  1.60000000e-03, -3.20000000e-04,\n",
       "         6.40000000e-05, -1.28000000e-05,  2.56000000e-06,\n",
       "        -5.12000000e-07,  1.02400000e-07],\n",
       "       [ 1.00000000e+00,  0.00000000e+00,  0.00000000e+00,\n",
       "         0.00000000e+00,  0.00000000e+00,  0.00000000e+00,\n",
       "         0.00000000e+00,  0.00000000e+00,  0.00000000e+00,\n",
       "         0.00000000e+00,  0.00000000e+00],\n",
       "       [ 1.00000000e+00,  2.00000000e-01,  4.00000000e-02,\n",
       "         8.00000000e-03,  1.60000000e-03,  3.20000000e-04,\n",
       "         6.40000000e-05,  1.28000000e-05,  2.56000000e-06,\n",
       "         5.12000000e-07,  1.02400000e-07],\n",
       "       [ 1.00000000e+00,  4.00000000e-01,  1.60000000e-01,\n",
       "         6.40000000e-02,  2.56000000e-02,  1.02400000e-02,\n",
       "         4.09600000e-03,  1.63840000e-03,  6.55360000e-04,\n",
       "         2.62144000e-04,  1.04857600e-04],\n",
       "       [ 1.00000000e+00,  6.00000000e-01,  3.60000000e-01,\n",
       "         2.16000000e-01,  1.29600000e-01,  7.77600000e-02,\n",
       "         4.66560000e-02,  2.79936000e-02,  1.67961600e-02,\n",
       "         1.00776960e-02,  6.04661760e-03],\n",
       "       [ 1.00000000e+00,  8.00000000e-01,  6.40000000e-01,\n",
       "         5.12000000e-01,  4.09600000e-01,  3.27680000e-01,\n",
       "         2.62144000e-01,  2.09715200e-01,  1.67772160e-01,\n",
       "         1.34217728e-01,  1.07374182e-01],\n",
       "       [ 1.00000000e+00,  1.00000000e+00,  1.00000000e+00,\n",
       "         1.00000000e+00,  1.00000000e+00,  1.00000000e+00,\n",
       "         1.00000000e+00,  1.00000000e+00,  1.00000000e+00,\n",
       "         1.00000000e+00,  1.00000000e+00]])"
      ]
     },
     "metadata": {},
     "execution_count": 6
    }
   ],
   "metadata": {}
  },
  {
   "cell_type": "code",
   "execution_count": null,
   "source": [],
   "outputs": [],
   "metadata": {}
  }
 ],
 "metadata": {
  "orig_nbformat": 4,
  "language_info": {
   "name": "python",
   "version": "3.7.7",
   "mimetype": "text/x-python",
   "codemirror_mode": {
    "name": "ipython",
    "version": 3
   },
   "pygments_lexer": "ipython3",
   "nbconvert_exporter": "python",
   "file_extension": ".py"
  },
  "kernelspec": {
   "name": "python3",
   "display_name": "Python 3.7.7 64-bit ('tf': conda)"
  },
  "interpreter": {
   "hash": "1b4bd66619e1f63a2810c0f91c748d47860e139f5a175a9a480ebd9d4456bd5e"
  }
 },
 "nbformat": 4,
 "nbformat_minor": 2
}