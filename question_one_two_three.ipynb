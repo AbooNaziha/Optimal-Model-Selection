{
 "cells": [
  {
   "cell_type": "markdown",
   "source": [
    "This is assignment 1 solution for Ismaila Shaibu.\r\n",
    "Student Id: 2263286\r\n",
    "Email: IXS186@student.bham.ac.uk\r\n",
    "Name: Ismaila Shaibu"
   ],
   "metadata": {}
  },
  {
   "cell_type": "markdown",
   "source": [
    "Question one solution\r\n",
    "1. Using 3-fold cross-validation to select an optimal polynomial model using least squares estimation without regularization.\r\n",
    "   i. state the optimal degree of polynomial and print its parameter accurate to three decimal places.\r\n",
    "   ii. Plot the fitted line and comment on whether it appears to represent the data well. Do you think it will generalise well to unseen data?\r\n",
    "   iii. State clearly your estimates of t for the missing values of x. "
   ],
   "metadata": {}
  },
  {
   "cell_type": "code",
   "execution_count": 194,
   "source": [
    "import pandas as pd\r\n",
    "import numpy as np\r\n",
    "import matplotlib.pyplot as plt\r\n",
    "df = pd.read_csv('assignment1.csv').to_numpy()\r\n",
    "x = df[:,1].reshape((-1,1))\r\n",
    "t = df[:,2].reshape((-1,1))\r\n"
   ],
   "outputs": [],
   "metadata": {}
  },
  {
   "cell_type": "code",
   "execution_count": 195,
   "source": [
    "t = np.array(t).ravel()\r\n",
    "x = np.array(x).ravel()"
   ],
   "outputs": [],
   "metadata": {}
  },
  {
   "cell_type": "code",
   "execution_count": 196,
   "source": [
    "plt.figure()\r\n",
    "plt.plot(x,t,'b.')\r\n",
    "plt.xlabel('x')\r\n",
    "plt.ylabel('t')"
   ],
   "outputs": [
    {
     "output_type": "execute_result",
     "data": {
      "text/plain": [
       "Text(0, 0.5, 't')"
      ]
     },
     "metadata": {},
     "execution_count": 196
    },
    {
     "output_type": "display_data",
     "data": {
      "image/png": "[encoded data removed]",
      "text/plain": [
       "<Figure size 432x288 with 1 Axes>"
      ]
     },
     "metadata": {
      "needs_background": "light"
     }
    }
   ],
   "metadata": {}
  },
  {
   "cell_type": "markdown",
   "source": [
    " CROSS VALIDATION"
   ],
   "metadata": {}
  },
  {
   "cell_type": "code",
   "execution_count": 197,
   "source": [
    "# Construct the dataset\r\n",
    "# the combined data for cross-validation 9 pts: Based on available data from the csv file.\r\n",
    "xtrainval = x[0:9]\r\n",
    "ttrainval = t[0:9]\r\n",
    "# a test set of 5 pts: based on available data from the csv file\r\n",
    "xtest = x[9:14]\r\n",
    "ttest = t[9::14]\r\n",
    "\r\n",
    "# split the dataset into three random folds\r\n",
    "\r\n",
    "# First, combine the x and t data into a single array\r\n",
    "trainval = np.concatenate([np.atleast_2d(xtrainval).T,np.atleast_2d(ttrainval).T],axis=1)\r\n",
    "\r\n",
    "# Randomise the order\r\n",
    "trainval = np.random.permutation(trainval)\r\n",
    "\r\n",
    "# Split the dataset, remembering that we randomised the order of the data points. We'll split into K=3 folds.\r\n",
    "Folds = [ trainval[0:3], trainval[3:6], trainval[6:9] ]\r\n",
    "\r\n",
    "M = [0,1,2,3,4,5,6] # max polynomial order set to 6 because the training \r\n",
    "K = 3 # number of folds\r\n",
    "rmstrain = [] # error on the training folds\r\n",
    "rmsvalid = [] # RMS error on the validation fold\r\n",
    "stdtrain = [] # standard deviation over the training sets\r\n",
    "stdvalid = [] # standard deviation over the validation sets\r\n",
    "\r\n",
    "for i in M:\r\n",
    "    # Record the performance on the folds\r\n",
    "    train_loss = []\r\n",
    "    validation_loss = []\r\n",
    "    for j in range(K):\r\n",
    "        # Select the one validation fold\r\n",
    "        Valid = Folds[j]\r\n",
    "        # Select and combine the K-1 training folds\r\n",
    "        Train = np.concatenate(Folds[:j]+Folds[j+1:])\r\n",
    "        # Compute the basis matrix for the training and validation folds\r\n",
    "        PhiTrain = np.array([pow(Train[:,0],j) for j in range(0,i+1)]).transpose()\r\n",
    "        PhiValid = np.array([pow(Valid[:,0],j) for j in range(0,i+1)]).transpose()\r\n",
    "        # Train the model\r\n",
    "        w = np.linalg.solve(np.matmul(PhiTrain.transpose(),PhiTrain), np.matmul(PhiTrain.transpose(),Train[:,1]))\r\n",
    "        # Compute the error on the training set\r\n",
    "        train_loss.append(np.sqrt(np.average(pow(Train[:,1]-np.matmul(PhiTrain,w),2))))\r\n",
    "        # Compute the error on the validation set\r\n",
    "        validation_loss.append(np.sqrt(np.average(pow(Valid[:,1]-np.matmul(PhiValid,w),2))))\r\n",
    "    # Record the average over the folds\r\n",
    "    rmstrain.append(np.average(train_loss))\r\n",
    "    rmsvalid.append(np.average(validation_loss))\r\n",
    "    stdtrain.append(np.std(train_loss))\r\n",
    "    stdvalid.append(np.std(validation_loss))    \r\n",
    "    \r\n",
    "plt.figure()\r\n",
    "plt.errorbar(M,rmstrain,fmt='b-',yerr=stdtrain,label=\"Train\")\r\n",
    "plt.errorbar(M,rmsvalid,fmt='y-',yerr=stdvalid,label=\"Validation\")\r\n",
    "plt.xlabel('M')\r\n",
    "plt.ylabel('RMS Error')\r\n",
    "plt.tight_layout()\r\n",
    "plt.savefig('cross-validation-loss.png')\r\n",
    "\r\n",
    "print(\"Order & Train & Valid \\\\\\\\\")\r\n",
    "for i in M:\r\n",
    "    print(f\"{i:d} & {rmstrain[i]:.3f} & {rmsvalid[i]:.3f}\")"
   ],
   "outputs": [
    {
     "output_type": "stream",
     "name": "stdout",
     "text": [
      "Order & Train & Valid \\\\\n",
      "0 & 1.143 & 1.569\n",
      "1 & 0.569 & 0.904\n",
      "2 & 0.199 & 0.514\n",
      "3 & 0.142 & 0.742\n",
      "4 & 0.093 & 3.844\n",
      "5 & 0.000 & 32.487\n",
      "6 & 0.000 & 96.520\n"
     ]
    },
    {
     "output_type": "display_data",
     "data": {
      "image/png": "[encoded data removed]",
      "text/plain": [
       "<Figure size 432x288 with 1 Axes>"
      ]
     },
     "metadata": {
      "needs_background": "light"
     }
    }
   ],
   "metadata": {}
  },
  {
   "cell_type": "markdown",
   "source": [
    "A close look at the plot of RMS error versus polynomial order M:\r\n",
    "the plot at M = 3 gives the optimal polynomial model. \r\n",
    "\r\n",
    "Also we can look at the sharp rise in validation after M = 3."
   ],
   "metadata": {}
  },
  {
   "cell_type": "code",
   "execution_count": 198,
   "source": [
    "# Recompute the basis for the cubic model\r\n",
    "polyorder = 3\r\n",
    "PhiTrain = np.array([pow(xtrainval,j) for j in range(0,polyorder+1)]).transpose()\r\n",
    "PhiTest = np.array([pow(xtest,j) for j in range(0,polyorder+1)]).transpose()\r\n",
    "hiPhi = np.array([pow(x,j) for j in range(0,polyorder+1)]).transpose()\r\n",
    "\r\n",
    "weights = []\r\n",
    "# Solve the normal equations using a standard solver\r\n",
    "w = np.linalg.solve(np.matmul(PhiTrain.transpose(),PhiTrain), np.matmul(PhiTrain.transpose(),ttrainval))\r\n",
    "weights.append(w)\r\n",
    "# Compute the estimated values of the data points so we can compute the error\r\n",
    "ytrain = np.matmul(PhiTrain,w)\r\n",
    "ytest = np.matmul(PhiTest,w)\r\n",
    "# compute the RMS error\r\n",
    "training_loss = np.sqrt(np.sum(pow(ttrainval-ytrain,2)/xtrainval.size))\r\n",
    "test_loss = np.sqrt(np.sum(pow(ttest-ytest,2)/xtest.size))\r\n",
    "print(f\"Training loss = {training_loss:.2f}\")\r\n",
    "print(f\"Test loss = {test_loss:.2f}\")\r\n",
    "print(f\"weights parameters = {np.around(weights, 3)}\")\r\n",
    "# Plot the data\r\n",
    "plt.figure()\r\n",
    "plt.plot(xtrainval,ttrainval,'r-')\r\n",
    "#plt.plot(xtest,ttest,'r.')\r\n",
    "plt.plot(x,t,'b.')\r\n",
    "plt.plot(x,np.matmul(hiPhi,w),'k--')\r\n",
    "plt.xlabel('x')\r\n",
    "plt.ylabel('t')\r\n",
    "plt.tight_layout()\r\n",
    "plt.savefig('cross-validation-result.png')"
   ],
   "outputs": [
    {
     "output_type": "stream",
     "name": "stdout",
     "text": [
      "Training loss = 0.21\n",
      "Test loss = 1.11\n",
      "weights parameters = [[ 0.162  0.212 -0.004  0.   ]]\n"
     ]
    },
    {
     "output_type": "display_data",
     "data": {
      "image/png": "[encoded data removed]",
      "text/plain": [
       "<Figure size 432x288 with 1 Axes>"
      ]
     },
     "metadata": {
      "needs_background": "light"
     }
    }
   ],
   "metadata": {}
  },
  {
   "cell_type": "markdown",
   "source": [
    "The plot of the fitted line represents the data well. \r\n",
    "\r\n",
    "I believe it will generalize well to unseen data. "
   ],
   "metadata": {}
  },
  {
   "cell_type": "markdown",
   "source": [
    "estimation of the missing values of x. \r\n",
    "\r\n",
    "At the point we need to consider all the data point "
   ],
   "metadata": {}
  },
  {
   "cell_type": "code",
   "execution_count": 199,
   "source": [
    "x"
   ],
   "outputs": [
    {
     "output_type": "execute_result",
     "data": {
      "text/plain": [
       "array([ 1.,  6., 11., 16., 21., 26., 61., 66., 71., 76., 81., 86., 91.,\n",
       "       96.])"
      ]
     },
     "metadata": {},
     "execution_count": 199
    }
   ],
   "metadata": {}
  },
  {
   "cell_type": "code",
   "execution_count": 200,
   "source": [
    "y = np.array([31,36,41,46,51,56])\r\n",
    "z = np.insert(x, 6, y, axis=None)"
   ],
   "outputs": [],
   "metadata": {}
  },
  {
   "cell_type": "code",
   "execution_count": 201,
   "source": [
    "z"
   ],
   "outputs": [
    {
     "output_type": "execute_result",
     "data": {
      "text/plain": [
       "array([ 1.,  6., 11., 16., 21., 26., 31., 36., 41., 46., 51., 56., 61.,\n",
       "       66., 71., 76., 81., 86., 91., 96.])"
      ]
     },
     "metadata": {},
     "execution_count": 201
    }
   ],
   "metadata": {}
  },
  {
   "cell_type": "code",
   "execution_count": 202,
   "source": [
    "x = z\r\n",
    "x = np.array(x).ravel()"
   ],
   "outputs": [],
   "metadata": {}
  },
  {
   "cell_type": "code",
   "execution_count": 203,
   "source": [
    "Npts = 20\r\n",
    "sigma = 0.1\r\n",
    "x = np.atleast_2d(x).T\r\n",
    "Phi = np.concatenate((np.ones((Npts,1)),x, x**2, x**3),axis=1)\r\n"
   ],
   "outputs": [],
   "metadata": {}
  },
  {
   "cell_type": "code",
   "execution_count": 204,
   "source": [
    "wtrue = np.array([0.162, 0.212, -0.004, 0. ])\r\n",
    "h = np.matmul(Phi,wtrue)\r\n",
    "t = h + sigma*np.random.randn(Npts)\r\n"
   ],
   "outputs": [],
   "metadata": {}
  },
  {
   "cell_type": "code",
   "execution_count": 205,
   "source": [
    "x = np.array(x).ravel()"
   ],
   "outputs": [],
   "metadata": {}
  },
  {
   "cell_type": "code",
   "execution_count": 206,
   "source": [
    "estimate_missig_values = pd.DataFrame({\"x\": x, \"t\" : t})"
   ],
   "outputs": [],
   "metadata": {}
  },
  {
   "cell_type": "code",
   "execution_count": 207,
   "source": [
    "print(estimate_missig_values)"
   ],
   "outputs": [
    {
     "output_type": "stream",
     "name": "stdout",
     "text": [
      "       x          t\n",
      "0    1.0   0.249227\n",
      "1    6.0   1.360997\n",
      "2   11.0   1.921881\n",
      "3   16.0   2.517525\n",
      "4   21.0   2.649453\n",
      "5   26.0   3.092775\n",
      "6   31.0   2.933855\n",
      "7   36.0   2.721431\n",
      "8   41.0   2.310098\n",
      "9   46.0   1.422045\n",
      "10  51.0   0.483006\n",
      "11  56.0  -0.680750\n",
      "12  61.0  -1.754203\n",
      "13  66.0  -3.446464\n",
      "14  71.0  -4.779891\n",
      "15  76.0  -6.892990\n",
      "16  81.0  -8.854376\n",
      "17  86.0 -11.077257\n",
      "18  91.0 -13.762395\n",
      "19  96.0 -16.289703\n"
     ]
    }
   ],
   "metadata": {}
  },
  {
   "cell_type": "markdown",
   "source": [
    "Question 2"
   ],
   "metadata": {}
  },
  {
   "cell_type": "code",
   "execution_count": 208,
   "source": [
    "alpha = 2.0\r\n",
    "beta = (1/sigma)**2\r\n",
    "m0 = np.zeros(wtrue.size)\r\n",
    "S0 = (1/alpha)*np.eye(wtrue.size)"
   ],
   "outputs": [],
   "metadata": {}
  },
  {
   "cell_type": "code",
   "execution_count": 209,
   "source": [
    "xsample = np.atleast_2d(x)\r\n",
    "tsample = np.atleast_2d(t).T\r\n",
    "Phisample = np.atleast_2d(Phi)\r\n",
    "invS0 = alpha*np.eye(wtrue.size)\r\n",
    "invSN = invS0 + beta*np.matmul(Phisample.T,Phisample)\r\n",
    "SN = np.linalg.inv(invSN)\r\n",
    "mN = np.squeeze(beta*np.matmul(SN,np.matmul(Phisample.T,tsample)))"
   ],
   "outputs": [],
   "metadata": {}
  },
  {
   "cell_type": "code",
   "execution_count": 210,
   "source": [
    "print(mN)"
   ],
   "outputs": [
    {
     "output_type": "stream",
     "name": "stdout",
     "text": [
      "[ 6.51085508e-02  2.20545490e-01 -4.19535774e-03  1.27857461e-06]\n"
     ]
    }
   ],
   "metadata": {}
  },
  {
   "cell_type": "code",
   "execution_count": 211,
   "source": [
    "weights = np.array(weights).ravel()"
   ],
   "outputs": [],
   "metadata": {}
  },
  {
   "cell_type": "code",
   "execution_count": 212,
   "source": [
    "maximum_likelihood_versus_mean_of_posterior = pd.DataFrame({\"Maximum_likelihood\": weights, \"mean_of_posterior\" : mN})"
   ],
   "outputs": [],
   "metadata": {}
  },
  {
   "cell_type": "code",
   "execution_count": 213,
   "source": [
    "print(maximum_likelihood_versus_mean_of_posterior)"
   ],
   "outputs": [
    {
     "output_type": "stream",
     "name": "stdout",
     "text": [
      "   Maximum_likelihood  mean_of_posterior\n",
      "0            0.162295           0.065109\n",
      "1            0.212175           0.220545\n",
      "2           -0.003901          -0.004195\n",
      "3            0.000024           0.000001\n"
     ]
    }
   ],
   "metadata": {}
  },
  {
   "cell_type": "markdown",
   "source": [
    "Mean of posterior got to a maximum at the first value of Wtrue before maximum likelihood.\r\n",
    "\r\n",
    "This is likely due to the prior consideration for mean of posterior."
   ],
   "metadata": {}
  },
  {
   "cell_type": "markdown",
   "source": [
    "Maximum likelihood estimate will be identical to mean of posterior if covariance approximate to zero. That is variance of each parameter tending to infinity. "
   ],
   "metadata": {}
  },
  {
   "cell_type": "code",
   "execution_count": 214,
   "source": [
    "print(SN)"
   ],
   "outputs": [
    {
     "output_type": "stream",
     "name": "stdout",
     "text": [
      "[[ 6.46706688e-03 -4.94167951e-04  1.00649704e-05 -5.97717819e-08]\n",
      " [-4.94167951e-04  5.35992069e-05 -1.25262689e-06  8.01102111e-09]\n",
      " [ 1.00649704e-05 -1.25262689e-06  3.14065059e-08 -2.09781870e-10]\n",
      " [-5.97717819e-08  8.01102111e-09 -2.09781870e-10  1.44294844e-12]]\n"
     ]
    }
   ],
   "metadata": {}
  },
  {
   "cell_type": "markdown",
   "source": [
    "The values of SN show that, as it approximate to zero maximum likelihood and mean of posterior got identical value of approximately -0.004"
   ],
   "metadata": {}
  },
  {
   "cell_type": "markdown",
   "source": [
    "Question 3"
   ],
   "metadata": {}
  },
  {
   "cell_type": "code",
   "execution_count": 215,
   "source": [
    "Npts = 20\r\n",
    "sigma = 0.1\r\n",
    "x = np.atleast_2d(x).T\r\n",
    "Phi = np.concatenate((np.ones((Npts,1)),x, x**2, x**3),axis=1)"
   ],
   "outputs": [],
   "metadata": {}
  },
  {
   "cell_type": "code",
   "execution_count": 216,
   "source": [
    "wtrue = np.array([0.162, 0.212, -0.004, 0. ])\r\n",
    "h = np.matmul(Phi,wtrue)\r\n",
    "t = h + sigma*np.random.randn(Npts)"
   ],
   "outputs": [],
   "metadata": {}
  },
  {
   "cell_type": "code",
   "execution_count": 217,
   "source": [
    "plt.figure()\r\n",
    "plt.plot(x,h,'k-',x,t,'b.')\r\n",
    "plt.xlabel('x')\r\n",
    "plt.ylabel('t')\r\n",
    "plt.tight_layout()"
   ],
   "outputs": [
    {
     "output_type": "display_data",
     "data": {
      "image/png": "[encoded data removed]",
      "text/plain": [
       "<Figure size 432x288 with 1 Axes>"
      ]
     },
     "metadata": {
      "needs_background": "light"
     }
    }
   ],
   "metadata": {}
  },
  {
   "cell_type": "code",
   "execution_count": 218,
   "source": [
    "y = np.array([101,106,111,116,120])\r\n",
    "z = np.insert(x, 20, y, axis=None)"
   ],
   "outputs": [],
   "metadata": {}
  },
  {
   "cell_type": "code",
   "execution_count": 219,
   "source": [
    "x = z\r\n",
    "x"
   ],
   "outputs": [
    {
     "output_type": "execute_result",
     "data": {
      "text/plain": [
       "array([  1.,   6.,  11.,  16.,  21.,  26.,  31.,  36.,  41.,  46.,  51.,\n",
       "        56.,  61.,  66.,  71.,  76.,  81.,  86.,  91.,  96., 101., 106.,\n",
       "       111., 116., 120.])"
      ]
     },
     "metadata": {},
     "execution_count": 219
    }
   ],
   "metadata": {}
  },
  {
   "cell_type": "code",
   "execution_count": 220,
   "source": [
    "Npts = 25\r\n",
    "sigma = 0.1\r\n",
    "x = np.atleast_2d(x).T\r\n",
    "Phi = np.concatenate((np.ones((Npts,1)),x, x**2, x**3),axis=1)"
   ],
   "outputs": [],
   "metadata": {}
  },
  {
   "cell_type": "code",
   "execution_count": 221,
   "source": [
    "wtrue = np.array([0.162, 0.212, -0.004, 0. ])\r\n",
    "h = np.matmul(Phi,wtrue)\r\n",
    "t = h + sigma*np.random.randn(Npts)"
   ],
   "outputs": [],
   "metadata": {}
  },
  {
   "cell_type": "code",
   "execution_count": 222,
   "source": [
    "x = np.array(x).ravel()"
   ],
   "outputs": [],
   "metadata": {}
  },
  {
   "cell_type": "code",
   "execution_count": 223,
   "source": [
    "# Allow up to polynomials of degree 5\r\n",
    "nw = 3\r\n",
    "# Create the model\r\n",
    "Phi = np.array([pow(x,j) for j in range(0,nw)]).transpose()\r\n",
    "# Select up to 20 random points from the model\r\n",
    "sample_indices = np.random.choice(np.linspace(0,Npts-1,Npts).astype(int),size=19,replace=False)\r\n",
    "\r\n"
   ],
   "outputs": [],
   "metadata": {}
  },
  {
   "cell_type": "code",
   "execution_count": 224,
   "source": [
    "# Set up the initial state\r\n",
    "alpha = 2.0\r\n",
    "beta = (1/sigma)**2\r\n",
    "m0 = np.zeros(nw)\r\n",
    "S0 = (1/alpha)*np.eye(nw)"
   ],
   "outputs": [],
   "metadata": {}
  },
  {
   "cell_type": "code",
   "execution_count": 225,
   "source": [
    "plt.figure(figsize=[9,9])\r\n",
    "for i,npts in enumerate([1,2,3,5,20,120]):\r\n",
    "    xsample = np.atleast_2d(x[sample_indices[0:npts]])\r\n",
    "    tsample = np.atleast_2d(t[sample_indices[0:npts]]).T\r\n",
    "    Phisample = np.atleast_2d(Phi[sample_indices[0:npts]])\r\n",
    "    invS0 = alpha*np.eye(nw)\r\n",
    "    invSN = invS0 + beta*np.matmul(Phisample.T,Phisample)\r\n",
    "    SN = np.linalg.inv(invSN)\r\n",
    "    mN = np.squeeze(beta*np.matmul(SN,np.matmul(Phisample.T,tsample)))\r\n",
    "    sigmasq = (1/beta) + np.diag(np.matmul(Phi,np.matmul(SN,Phi.T)))\r\n",
    "    plt.subplot(3,3,i+1)\r\n",
    "    plt.plot(x,h,'k-')\r\n",
    "    plt.plot(np.squeeze(xsample),np.squeeze(tsample),'b.')\r\n",
    "    y = np.matmul(Phi,mN)\r\n",
    "    plt.plot(x,y,'r--')\r\n",
    "    plt.fill_between(x,y-np.sqrt(sigmasq), y+np.sqrt(sigmasq),color='blue',alpha=0.3)\r\n",
    "    plt.xlabel('x')\r\n",
    "    plt.ylabel('y')\r\n",
    "    plt.title(f'N={npts}')\r\n",
    "    plt.tight_layout()\r\n",
    "plt.savefig('bayesianprediction.png')"
   ],
   "outputs": [
    {
     "output_type": "display_data",
     "data": {
      "image/png": "[encoded data removed]",
      "text/plain": [
       "<Figure size 648x648 with 6 Axes>"
      ]
     },
     "metadata": {
      "needs_background": "light"
     }
    }
   ],
   "metadata": {}
  },
  {
   "cell_type": "markdown",
   "source": [
    "We see clearly that as more data point is added, it reduces the uncertainty around the model predictions. "
   ],
   "metadata": {}
  },
  {
   "cell_type": "code",
   "execution_count": null,
   "source": [],
   "outputs": [],
   "metadata": {}
  }
 ],
 "metadata": {
  "orig_nbformat": 4,
  "language_info": {
   "name": "python",
   "version": "3.7.7",
   "mimetype": "text/x-python",
   "codemirror_mode": {
    "name": "ipython",
    "version": 3
   },
   "pygments_lexer": "ipython3",
   "nbconvert_exporter": "python",
   "file_extension": ".py"
  },
  "kernelspec": {
   "name": "python3",
   "display_name": "Python 3.7.7 64-bit ('tf': conda)"
  },
  "interpreter": {
   "hash": "1b4bd66619e1f63a2810c0f91c748d47860e139f5a175a9a480ebd9d4456bd5e"
  }
 },
 "nbformat": 4,
 "nbformat_minor": 2
}