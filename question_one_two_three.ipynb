{
 "cells": [
  {
   "cell_type": "markdown",
   "source": [
    "This is assignment 1 solution for Ismaila Shaibu.\r\n",
    "Student Id: 2263286\r\n",
    "Email: IXS186@student.bham.ac.uk\r\n",
    "Name: Ismaila Shaibu"
   ],
   "metadata": {}
  },
  {
   "cell_type": "markdown",
   "source": [
    "Question one solution\r\n",
    "1. Using 3-fold cross-validation to select an optimal polynomial model using least squares estimation without regularization.\r\n",
    "   i. state the optimal degree of polynomial and print its parameter accurate to three decimal places.\r\n",
    "   ii. Plot the fitted line and comment on whether it appears to represent the data well. Do you think it will generalise well to unseen data?\r\n",
    "   iii. State clearly your estimates of t for the missing values of x. "
   ],
   "metadata": {}
  },
  {
   "cell_type": "code",
   "execution_count": 2,
   "source": [
    "import pandas as pd\r\n",
    "import numpy as np\r\n",
    "import matplotlib.pyplot as plt\r\n",
    "df = pd.read_csv('assignment1.csv').to_numpy()\r\n",
    "x = df[:,1].reshape((-1,1))\r\n",
    "t = df[:,2].reshape((-1,1))\r\n"
   ],
   "outputs": [],
   "metadata": {}
  },
  {
   "cell_type": "code",
   "execution_count": 3,
   "source": [
    "t = np.array(t).ravel()\r\n",
    "x = np.array(x).ravel()"
   ],
   "outputs": [],
   "metadata": {}
  },
  {
   "cell_type": "code",
   "execution_count": 4,
   "source": [
    "plt.figure()\r\n",
    "plt.plot(x,t,'b.')\r\n",
    "plt.xlabel('x')\r\n",
    "plt.ylabel('t')"
   ],
   "outputs": [
    {
     "output_type": "execute_result",
     "data": {
      "text/plain": [
       "Text(0, 0.5, 't')"
      ]
     },
     "metadata": {},
     "execution_count": 4
    },
    {
     "output_type": "display_data",
     "data": {
      "image/png": "[encoded data removed]",
      "text/plain": [
       "<Figure size 432x288 with 1 Axes>"
      ]
     },
     "metadata": {
      "needs_background": "light"
     }
    }
   ],
   "metadata": {}
  },
  {
   "cell_type": "markdown",
   "source": [
    " CROSS VALIDATION"
   ],
   "metadata": {}
  },
  {
   "cell_type": "code",
   "execution_count": 5,
   "source": [
    "# Construct the dataset\r\n",
    "# the combined data for cross-validation 9 pts: Based on available data from the csv file.\r\n",
    "xtrainval = x[0:9]\r\n",
    "ttrainval = t[0:9]\r\n",
    "# a test set of 5 pts: based on available data from the csv file\r\n",
    "xtest = x[9:14]\r\n",
    "ttest = t[9::14]\r\n",
    "\r\n",
    "# split the dataset into three random folds\r\n",
    "\r\n",
    "# First, combine the x and t data into a single array\r\n",
    "trainval = np.concatenate([np.atleast_2d(xtrainval).T,np.atleast_2d(ttrainval).T],axis=1)\r\n",
    "\r\n",
    "# Randomise the order\r\n",
    "trainval = np.random.permutation(trainval)\r\n",
    "\r\n",
    "# Split the dataset, remembering that we randomised the order of the data points. We'll split into K=3 folds.\r\n",
    "Folds = [ trainval[0:3], trainval[3:6], trainval[6:9] ]\r\n",
    "\r\n",
    "M = [0,1,2,3,4,5,6] # max polynomial order set to 6 because the training \r\n",
    "K = 3 # number of folds\r\n",
    "rmstrain = [] # error on the training folds\r\n",
    "rmsvalid = [] # RMS error on the validation fold\r\n",
    "stdtrain = [] # standard deviation over the training sets\r\n",
    "stdvalid = [] # standard deviation over the validation sets\r\n",
    "\r\n",
    "for i in M:\r\n",
    "    # Record the performance on the folds\r\n",
    "    train_loss = []\r\n",
    "    validation_loss = []\r\n",
    "    for j in range(K):\r\n",
    "        # Select the one validation fold\r\n",
    "        Valid = Folds[j]\r\n",
    "        # Select and combine the K-1 training folds\r\n",
    "        Train = np.concatenate(Folds[:j]+Folds[j+1:])\r\n",
    "        # Compute the basis matrix for the training and validation folds\r\n",
    "        PhiTrain = np.array([pow(Train[:,0],j) for j in range(0,i+1)]).transpose()\r\n",
    "        PhiValid = np.array([pow(Valid[:,0],j) for j in range(0,i+1)]).transpose()\r\n",
    "        # Train the model\r\n",
    "        w = np.linalg.solve(np.matmul(PhiTrain.transpose(),PhiTrain), np.matmul(PhiTrain.transpose(),Train[:,1]))\r\n",
    "        # Compute the error on the training set\r\n",
    "        train_loss.append(np.sqrt(np.average(pow(Train[:,1]-np.matmul(PhiTrain,w),2))))\r\n",
    "        # Compute the error on the validation set\r\n",
    "        validation_loss.append(np.sqrt(np.average(pow(Valid[:,1]-np.matmul(PhiValid,w),2))))\r\n",
    "    # Record the average over the folds\r\n",
    "    rmstrain.append(np.average(train_loss))\r\n",
    "    rmsvalid.append(np.average(validation_loss))\r\n",
    "    stdtrain.append(np.std(train_loss))\r\n",
    "    stdvalid.append(np.std(validation_loss))    \r\n",
    "    \r\n",
    "plt.figure()\r\n",
    "plt.errorbar(M,rmstrain,fmt='b-',yerr=stdtrain,label=\"Train\")\r\n",
    "plt.errorbar(M,rmsvalid,fmt='y-',yerr=stdvalid,label=\"Validation\")\r\n",
    "plt.xlabel('M')\r\n",
    "plt.ylabel('RMS Error')\r\n",
    "plt.tight_layout()\r\n",
    "plt.savefig('cross-validation-loss.png')\r\n",
    "\r\n",
    "print(\"Order & Train & Valid \\\\\\\\\")\r\n",
    "for i in M:\r\n",
    "    print(f\"{i:d} & {rmstrain[i]:.3f} & {rmsvalid[i]:.3f}\")"
   ],
   "outputs": [
    {
     "output_type": "stream",
     "name": "stdout",
     "text": [
      "Order & Train & Valid \\\\\n",
      "0 & 1.141 & 1.542\n",
      "1 & 0.449 & 2.144\n",
      "2 & 0.192 & 3.106\n",
      "3 & 0.158 & 5.547\n",
      "4 & 0.033 & 241.536\n",
      "5 & 0.000 & 375.348\n",
      "6 & 0.000 & 105.659\n"
     ]
    },
    {
     "output_type": "display_data",
     "data": {
      "image/png": "[encoded data removed]",
      "text/plain": [
       "<Figure size 432x288 with 1 Axes>"
      ]
     },
     "metadata": {
      "needs_background": "light"
     }
    }
   ],
   "metadata": {}
  },
  {
   "cell_type": "markdown",
   "source": [
    "A close look at the plot of RMS error versus polynomial order M:\r\n",
    "the plot at M = 3 gives the optimal polynomial model. \r\n",
    "\r\n",
    "Also we can look at the sharp rise in validation after M = 3."
   ],
   "metadata": {}
  },
  {
   "cell_type": "code",
   "execution_count": 6,
   "source": [
    "# Recompute the basis for the cubic model\r\n",
    "polyorder = 3\r\n",
    "PhiTrain = np.array([pow(xtrainval,j) for j in range(0,polyorder+1)]).transpose()\r\n",
    "PhiTest = np.array([pow(xtest,j) for j in range(0,polyorder+1)]).transpose()\r\n",
    "hiPhi = np.array([pow(x,j) for j in range(0,polyorder+1)]).transpose()\r\n",
    "\r\n",
    "weights = []\r\n",
    "# Solve the normal equations using a standard solver\r\n",
    "w = np.linalg.solve(np.matmul(PhiTrain.transpose(),PhiTrain), np.matmul(PhiTrain.transpose(),ttrainval))\r\n",
    "weights.append(w)\r\n",
    "# Compute the estimated values of the data points so we can compute the error\r\n",
    "ytrain = np.matmul(PhiTrain,w)\r\n",
    "ytest = np.matmul(PhiTest,w)\r\n",
    "# compute the RMS error\r\n",
    "training_loss = np.sqrt(np.sum(pow(ttrainval-ytrain,2)/xtrainval.size))\r\n",
    "test_loss = np.sqrt(np.sum(pow(ttest-ytest,2)/xtest.size))\r\n",
    "print(f\"Training loss = {training_loss:.2f}\")\r\n",
    "print(f\"Test loss = {test_loss:.2f}\")\r\n",
    "print(f\"weights parameters = {np.around(weights, 3)}\")\r\n",
    "# Plot the data\r\n",
    "plt.figure()\r\n",
    "plt.plot(xtrainval,ttrainval,'r-')\r\n",
    "#plt.plot(xtest,ttest,'r.')\r\n",
    "plt.plot(x,t,'b.')\r\n",
    "plt.plot(x,np.matmul(hiPhi,w),'k--')\r\n",
    "plt.xlabel('x')\r\n",
    "plt.ylabel('t')\r\n",
    "plt.tight_layout()\r\n",
    "plt.savefig('cross-validation-result.png')"
   ],
   "outputs": [
    {
     "output_type": "stream",
     "name": "stdout",
     "text": [
      "Training loss = 0.21\n",
      "Test loss = 1.11\n",
      "weights parameters = [[ 0.162  0.212 -0.004  0.   ]]\n"
     ]
    },
    {
     "output_type": "display_data",
     "data": {
      "image/png": "[encoded data removed]",
      "text/plain": [
       "<Figure size 432x288 with 1 Axes>"
      ]
     },
     "metadata": {
      "needs_background": "light"
     }
    }
   ],
   "metadata": {}
  },
  {
   "cell_type": "markdown",
   "source": [
    "The plot of the fitted line represents the data well. \r\n",
    "\r\n",
    "I believe it will generalize well to unseen data. "
   ],
   "metadata": {}
  },
  {
   "cell_type": "markdown",
   "source": [
    "estimation of the missing values of x. \r\n",
    "\r\n",
    "At the point we need to consider all the data point "
   ],
   "metadata": {}
  },
  {
   "cell_type": "code",
   "execution_count": 7,
   "source": [
    "x"
   ],
   "outputs": [
    {
     "output_type": "execute_result",
     "data": {
      "text/plain": [
       "array([ 1.,  6., 11., 16., 21., 26., 61., 66., 71., 76., 81., 86., 91.,\n",
       "       96.])"
      ]
     },
     "metadata": {},
     "execution_count": 7
    }
   ],
   "metadata": {}
  },
  {
   "cell_type": "code",
   "execution_count": 8,
   "source": [
    "y = np.array([31,36,41,46,51,56])\r\n",
    "z = np.insert(x, 6, y, axis=None)"
   ],
   "outputs": [],
   "metadata": {}
  },
  {
   "cell_type": "code",
   "execution_count": 9,
   "source": [
    "z"
   ],
   "outputs": [
    {
     "output_type": "execute_result",
     "data": {
      "text/plain": [
       "array([ 1.,  6., 11., 16., 21., 26., 31., 36., 41., 46., 51., 56., 61.,\n",
       "       66., 71., 76., 81., 86., 91., 96.])"
      ]
     },
     "metadata": {},
     "execution_count": 9
    }
   ],
   "metadata": {}
  },
  {
   "cell_type": "code",
   "execution_count": 10,
   "source": [
    "x = z\r\n",
    "x = np.array(x).ravel()"
   ],
   "outputs": [],
   "metadata": {}
  },
  {
   "cell_type": "code",
   "execution_count": 11,
   "source": [
    "Npts = 20\r\n",
    "sigma = 0.1\r\n",
    "x = np.atleast_2d(x).T\r\n",
    "Phi = np.concatenate((np.ones((Npts,1)),x, x**2, x**3),axis=1)\r\n"
   ],
   "outputs": [],
   "metadata": {}
  },
  {
   "cell_type": "code",
   "execution_count": 12,
   "source": [
    "wtrue = np.array([0.162, 0.212, -0.004, 0. ])\r\n",
    "h = np.matmul(Phi,wtrue)\r\n",
    "t = h + sigma*np.random.randn(Npts)\r\n"
   ],
   "outputs": [],
   "metadata": {}
  },
  {
   "cell_type": "code",
   "execution_count": 13,
   "source": [
    "x = np.array(x).ravel()"
   ],
   "outputs": [],
   "metadata": {}
  },
  {
   "cell_type": "code",
   "execution_count": 14,
   "source": [
    "estimate_missig_values = pd.DataFrame({\"x\": x, \"t\" : t})"
   ],
   "outputs": [],
   "metadata": {}
  },
  {
   "cell_type": "code",
   "execution_count": 15,
   "source": [
    "print(estimate_missig_values)"
   ],
   "outputs": [
    {
     "output_type": "stream",
     "name": "stdout",
     "text": [
      "       x          t\n",
      "0    1.0   0.296270\n",
      "1    6.0   1.342314\n",
      "2   11.0   2.034851\n",
      "3   16.0   2.687371\n",
      "4   21.0   2.936263\n",
      "5   26.0   2.927845\n",
      "6   31.0   2.920759\n",
      "7   36.0   2.542804\n",
      "8   41.0   2.140590\n",
      "9   46.0   1.576873\n",
      "10  51.0   0.510072\n",
      "11  56.0  -0.466349\n",
      "12  61.0  -1.899693\n",
      "13  66.0  -3.233183\n",
      "14  71.0  -4.940051\n",
      "15  76.0  -6.879627\n",
      "16  81.0  -8.904538\n",
      "17  86.0 -11.087814\n",
      "18  91.0 -13.651659\n",
      "19  96.0 -16.407159\n"
     ]
    }
   ],
   "metadata": {}
  },
  {
   "cell_type": "code",
   "execution_count": 21,
   "source": [
    "# Allow up to polynomials of degree 5\r\n",
    "nw = 3\r\n",
    "# Create the model\r\n",
    "Phi = np.array([pow(x,j) for j in range(0,nw)]).transpose()\r\n",
    "# Select up to 20 random points from the model\r\n",
    "sample_indices = np.random.choice(np.linspace(0,Npts-1,Npts).astype(int),size=19,replace=False)\r\n"
   ],
   "outputs": [],
   "metadata": {}
  },
  {
   "cell_type": "code",
   "execution_count": 22,
   "source": [
    "# Set up the initial state\r\n",
    "alpha = 2.0\r\n",
    "beta = (1/sigma)**2\r\n",
    "m0 = np.zeros(nw)\r\n",
    "S0 = (1/alpha)*np.eye(nw)"
   ],
   "outputs": [],
   "metadata": {}
  },
  {
   "cell_type": "code",
   "execution_count": 23,
   "source": [
    "plt.figure(figsize=[9,9])\r\n",
    "for i,npts in enumerate([1,2,3,5,20,120]):\r\n",
    "    xsample = np.atleast_2d(x[sample_indices[0:npts]])\r\n",
    "    tsample = np.atleast_2d(t[sample_indices[0:npts]]).T\r\n",
    "    Phisample = np.atleast_2d(Phi[sample_indices[0:npts]])\r\n",
    "    invS0 = alpha*np.eye(nw)\r\n",
    "    invSN = invS0 + beta*np.matmul(Phisample.T,Phisample)\r\n",
    "    SN = np.linalg.inv(invSN)\r\n",
    "    mN = np.squeeze(beta*np.matmul(SN,np.matmul(Phisample.T,tsample)))\r\n",
    "    sigmasq = (1/beta) + np.diag(np.matmul(Phi,np.matmul(SN,Phi.T)))\r\n",
    "    plt.subplot(3,3,i+1)\r\n",
    "    plt.plot(x,h,'k-')\r\n",
    "    plt.plot(np.squeeze(xsample),np.squeeze(tsample),'b.')\r\n",
    "    y = np.matmul(Phi,mN)\r\n",
    "    plt.plot(x,y,'r--')\r\n",
    "    plt.fill_between(x,y-np.sqrt(sigmasq), y+np.sqrt(sigmasq),color='blue',alpha=0.3)\r\n",
    "    plt.xlabel('x')\r\n",
    "    plt.ylabel('y')\r\n",
    "    plt.title(f'N={npts}')\r\n",
    "    plt.tight_layout()\r\n",
    "plt.savefig('bayesianprediction.png')"
   ],
   "outputs": [
    {
     "output_type": "display_data",
     "data": {
      "image/png": "[encoded data removed]",
      "text/plain": [
       "<Figure size 648x648 with 6 Axes>"
      ]
     },
     "metadata": {
      "needs_background": "light"
     }
    }
   ],
   "metadata": {}
  },
  {
   "cell_type": "code",
   "execution_count": null,
   "source": [],
   "outputs": [],
   "metadata": {}
  }
 ],
 "metadata": {
  "orig_nbformat": 4,
  "language_info": {
   "name": "python",
   "version": "3.7.7",
   "mimetype": "text/x-python",
   "codemirror_mode": {
    "name": "ipython",
    "version": 3
   },
   "pygments_lexer": "ipython3",
   "nbconvert_exporter": "python",
   "file_extension": ".py"
  },
  "kernelspec": {
   "name": "python3",
   "display_name": "Python 3.7.7 64-bit ('tf': conda)"
  },
  "interpreter": {
   "hash": "1b4bd66619e1f63a2810c0f91c748d47860e139f5a175a9a480ebd9d4456bd5e"
  }
 },
 "nbformat": 4,
 "nbformat_minor": 2
}